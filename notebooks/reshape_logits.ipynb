{
 "cells": [
  {
   "cell_type": "markdown",
   "metadata": {},
   "source": [
    "# Import necessary libraries"
   ]
  },
  {
   "cell_type": "code",
   "execution_count": 2,
   "metadata": {},
   "outputs": [
    {
     "name": "stdout",
     "output_type": "stream",
     "text": [
      "/net/server2/homes/sep/fantine/projects/microseismic-detection-ml\n"
     ]
    }
   ],
   "source": [
    "cd .."
   ]
  },
  {
   "cell_type": "code",
   "execution_count": 4,
   "metadata": {},
   "outputs": [],
   "source": [
    "import os\n",
    "import numpy as np\n",
    "import tensorflow as tf\n",
    "from gcp_io import gcp_io"
   ]
  },
  {
   "cell_type": "code",
   "execution_count": 5,
   "metadata": {},
   "outputs": [],
   "source": [
    "datapath = '/scr1/fantine/microseismic-detection-ml'"
   ]
  },
  {
   "cell_type": "markdown",
   "metadata": {},
   "source": [
    "# Consolidate predictions"
   ]
  },
  {
   "cell_type": "code",
   "execution_count": 6,
   "metadata": {},
   "outputs": [],
   "source": [
    "logits_files = tf.io.gfile.glob(os.path.join(datapath, 'continuous_data/*_logits.npy'))\n",
    "data_files = [filename.replace('_logits.npy', '.npy') for filename in logits_files]"
   ]
  },
  {
   "cell_type": "code",
   "execution_count": 7,
   "metadata": {},
   "outputs": [],
   "source": [
    "i = 0\n",
    "logits = gcp_io.read(logits_files[i])\n",
    "data = gcp_io.read(data_files[i])"
   ]
  },
  {
   "cell_type": "code",
   "execution_count": 8,
   "metadata": {},
   "outputs": [
    {
     "name": "stdout",
     "output_type": "stream",
     "text": [
      "(7681620, 1)\n",
      "(1024, 3615000)\n"
     ]
    }
   ],
   "source": [
    "print(logits.shape)\n",
    "print(data.shape)"
   ]
  },
  {
   "cell_type": "code",
   "execution_count": 22,
   "metadata": {},
   "outputs": [],
   "source": [
    "overlap = 0.5 # replace me\n",
    "input_shape = (512, 128) # replace me \n",
    "n1, n2 = data.shape[0], data.shape[1]\n",
    "w1, w2 = input_shape\n",
    "d1 = int((1. - overlap) * w1)\n",
    "d2 = int((1. - overlap) * w2)\n",
    "# axis 1 is channels, axis 2 is time\n",
    "dt = 0.0005"
   ]
  },
  {
   "cell_type": "code",
   "execution_count": 23,
   "metadata": {},
   "outputs": [],
   "source": [
    "predictions = tf.round(tf.nn.sigmoid(logits)).numpy()\n",
    "predictions = predictions.reshape((len(range(0, n1 - w1 + 1, d1)), -1))"
   ]
  },
  {
   "cell_type": "code",
   "execution_count": 26,
   "metadata": {},
   "outputs": [],
   "source": [
    "consolidated = np.amax(predictions, axis=0) # collapse the channel axis\n",
    "indices = np.where(consolidated == 1)[0] # remove the zeros\n",
    "shifted_predictions = (indices * w2 * (1. - overlap) + w2 // 2) / 500"
   ]
  },
  {
   "cell_type": "code",
   "execution_count": 27,
   "metadata": {},
   "outputs": [
    {
     "data": {
      "text/plain": [
       "327748.864"
      ]
     },
     "execution_count": 27,
     "metadata": {},
     "output_type": "execute_result"
    }
   ],
   "source": [
    "np.amax(shifted_predictions)"
   ]
  },
  {
   "cell_type": "code",
   "execution_count": null,
   "metadata": {},
   "outputs": [],
   "source": []
  }
 ],
 "metadata": {
  "kernelspec": {
   "display_name": "Python 3",
   "language": "python",
   "name": "python3"
  },
  "language_info": {
   "codemirror_mode": {
    "name": "ipython",
    "version": 3
   },
   "file_extension": ".py",
   "mimetype": "text/x-python",
   "name": "python",
   "nbconvert_exporter": "python",
   "pygments_lexer": "ipython3",
   "version": "3.8.6"
  }
 },
 "nbformat": 4,
 "nbformat_minor": 4
}
