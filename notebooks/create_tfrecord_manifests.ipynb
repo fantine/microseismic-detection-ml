{
 "cells": [
  {
   "cell_type": "code",
   "execution_count": null,
   "metadata": {},
   "outputs": [],
   "source": [
    "cd .."
   ]
  },
  {
   "cell_type": "code",
   "execution_count": null,
   "metadata": {},
   "outputs": [],
   "source": [
    "import os\n",
    "import random\n",
    "import numpy as np\n",
    "from gcp_io import gcp_io\n",
    "\n",
    "random.seed(42)"
   ]
  },
  {
   "cell_type": "code",
   "execution_count": null,
   "metadata": {},
   "outputs": [],
   "source": [
    "event_datapath = '/scr1/fantine/microseismic-detection-ml/event_windows/processed_windows/' \n",
    "event_filenames = gcp_io.get_filenames(event_datapath)\n",
    "\n",
    "noise_datapath = '/scr1/fantine/microseismic-detection-ml/noise_windows/processed_windows/' \n",
    "noise_filenames = gcp_io.get_filenames(noise_datapath)"
   ]
  },
  {
   "cell_type": "code",
   "execution_count": null,
   "metadata": {},
   "outputs": [],
   "source": [
    "minimum = 1e5\n",
    "maximum = 1e-5\n",
    "\n",
    "for filename in filenames: \n",
    "    data = gcp_io.read(filename)\n",
    "    minimum = min(minimum, np.amin(data))\n",
    "    maximum = max(maximum, np.amax(data))\n",
    "\n",
    "print(minimum, maximum)"
   ]
  },
  {
   "cell_type": "code",
   "execution_count": null,
   "metadata": {},
   "outputs": [],
   "source": [
    "n = len(event_filenames)\n",
    "noise_filenames = noise_filenames[:n]\n",
    "\n",
    "n_train = int(0.8 * n)\n",
    "n_eval = int(0.1 * n)\n",
    "n_test = n - n_train - n_eval"
   ]
  },
  {
   "cell_type": "code",
   "execution_count": null,
   "metadata": {},
   "outputs": [],
   "source": [
    "train_files = event_filenames[:n_train] + noise_filenames[:n_train]\n",
    "random.shuffle(train_files)"
   ]
  },
  {
   "cell_type": "code",
   "execution_count": null,
   "metadata": {},
   "outputs": [],
   "source": [
    "eval_files = event_filenames[n_train:n_train + n_eval] + noise_filenames[n_train:n_train + n_eval]\n",
    "random.shuffle(eval_files)"
   ]
  },
  {
   "cell_type": "code",
   "execution_count": null,
   "metadata": {},
   "outputs": [],
   "source": [
    "test_files = event_filenames[-n_test:] + noise_filenames[-n_test:]\n",
    "random.shuffle(test_files)"
   ]
  },
  {
   "cell_type": "code",
   "execution_count": null,
   "metadata": {},
   "outputs": [],
   "source": [
    "manifest_dir = '/scr1/fantine/microseismic-detection-ml/tfrecords/manifests'\n",
    "\n",
    "def create_manifest(out_file, filenames):\n",
    "    out_file = os.path.join(manifest_dir, out_file)\n",
    "    with open(out_file, 'w') as f:\n",
    "        for filename in filenames:\n",
    "            f.write(filename + '\\n')"
   ]
  },
  {
   "cell_type": "code",
   "execution_count": null,
   "metadata": {},
   "outputs": [],
   "source": [
    "create_manifest('baseline_train_manifest.txt', train_files)\n",
    "create_manifest('baseline_eval_manifest.txt', eval_files)\n",
    "create_manifest('baseline_test_manifest.txt', test_files)"
   ]
  }
 ],
 "metadata": {
  "kernelspec": {
   "display_name": "Python 3",
   "language": "python",
   "name": "python3"
  },
  "language_info": {
   "codemirror_mode": {
    "name": "ipython",
    "version": 3
   },
   "file_extension": ".py",
   "mimetype": "text/x-python",
   "name": "python",
   "nbconvert_exporter": "python",
   "pygments_lexer": "ipython3",
   "version": "3.8.6"
  }
 },
 "nbformat": 4,
 "nbformat_minor": 4
}
