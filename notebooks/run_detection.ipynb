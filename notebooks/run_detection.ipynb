{
 "cells": [
  {
   "cell_type": "code",
   "execution_count": null,
   "metadata": {},
   "outputs": [],
   "source": [
    "cd .."
   ]
  },
  {
   "cell_type": "code",
   "execution_count": null,
   "metadata": {},
   "outputs": [],
   "source": [
    "import os\n",
    "import matplotlib.pyplot as plt\n",
    "import numpy as np\n",
    "import tensorflow as tf"
   ]
  },
  {
   "cell_type": "code",
   "execution_count": null,
   "metadata": {},
   "outputs": [],
   "source": [
    "datapath = '/scr1/prgiven/microseismic-detection-ml/'\n",
    "input_file_pattern = os.path.join(datapath, 'processed_windows/', '*.npy') # replace me - windowed files            \n",
    "filenames = sorted(tf.io.gfile.glob(input_file_pattern))\n",
    "print('Found {} files'.format(len(filenames)))"
   ]
  },
  {
   "cell_type": "code",
   "execution_count": null,
   "metadata": {},
   "outputs": [],
   "source": [
    "job_id = 'train_20210611_025347_cnn2d_modular_010_' # Replace me\n",
    "ckpt = '{}/models/{}/ckpt'.format(datapath, job_id)\n",
    "model = tf.keras.models.load_model(ckpt)\n",
    "model.compile()"
   ]
  },
  {
   "cell_type": "code",
   "execution_count": null,
   "metadata": {
    "scrolled": false
   },
   "outputs": [],
   "source": [
    "def run_prediction(filename, model):\n",
    "    data = np.load(filename)\n",
    "    inputs = preprocess(inputs)\n",
    "    return model.predict(inputs, use_multiprocessing=True)\n",
    "\n",
    "def preprocess(data):\n",
    "    # this should be the same preprocessing as when you converted TFRecords\n",
    "    # crop it to input_height and width (cropping at the center)\n",
    "    data = data.reshape((1, 288, 512, 1)) # adjust numbers\n",
    "    data = np.clip(data, -0.1, 0.1) / 0.03 # stats\n",
    "    return np.float32(data)\n",
    "\n",
    "logits = np.zeros(len(filenames))\n",
    "for i, filename in enumerate(filenames):\n",
    "    output = run_prediction(filename, model)\n",
    "    logits[i] = output"
   ]
  },
  {
   "cell_type": "code",
   "execution_count": null,
   "metadata": {},
   "outputs": [],
   "source": [
    "probability = tf.nn.sigmoid(logits).numpy()"
   ]
  },
  {
   "cell_type": "code",
   "execution_count": null,
   "metadata": {},
   "outputs": [],
   "source": []
  }
 ],
 "metadata": {
  "kernelspec": {
   "display_name": "Python 3",
   "language": "python",
   "name": "python3"
  },
  "language_info": {
   "codemirror_mode": {
    "name": "ipython",
    "version": 3
   },
   "file_extension": ".py",
   "mimetype": "text/x-python",
   "name": "python",
   "nbconvert_exporter": "python",
   "pygments_lexer": "ipython3",
   "version": "3.8.6"
  }
 },
 "nbformat": 4,
 "nbformat_minor": 4
}
